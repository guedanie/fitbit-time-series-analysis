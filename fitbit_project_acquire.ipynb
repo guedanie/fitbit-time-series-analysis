{
 "cells": [
  {
   "cell_type": "code",
   "execution_count": 1,
   "metadata": {},
   "outputs": [],
   "source": [
    "import csv\n",
    "import pandas as pd"
   ]
  },
  {
   "cell_type": "code",
   "execution_count": 2,
   "metadata": {},
   "outputs": [],
   "source": [
    "fields = [] \n",
    "rows = [] \n",
    "\n",
    "# reading csv file \n",
    "with open(\"2018-11-28_through_2018-12-28.csv\", 'r') as csvfile: \n",
    "    # creating a csv reader object \n",
    "    csvreader = csv.reader(csvfile) \n",
    "      \n",
    "    # extracting field names through first row \n",
    "    fields = next(csvreader) \n",
    "  \n",
    "    # extracting each data row one by one \n",
    "    for row in csvreader: \n",
    "        rows.append(row) \n",
    "\n",
    "df = pd.DataFrame(rows)"
   ]
  },
  {
   "cell_type": "code",
   "execution_count": 3,
   "metadata": {},
   "outputs": [
    {
     "data": {
      "text/plain": [
       "False"
      ]
     },
     "execution_count": 3,
     "metadata": {},
     "output_type": "execute_result"
    }
   ],
   "source": [
    "rows[32] != []"
   ]
  },
  {
   "cell_type": "code",
   "execution_count": 4,
   "metadata": {},
   "outputs": [],
   "source": [
    "# Get Calories\n",
    "\n",
    "calories = []\n",
    "date = []\n",
    "i = 0\n",
    "while rows[i] != []:\n",
    "    calories.append(rows[i])\n",
    "    i += 1\n",
    "    "
   ]
  },
  {
   "cell_type": "code",
   "execution_count": null,
   "metadata": {},
   "outputs": [],
   "source": [
    "calories = pd.DataFrame(calories, columns=[\"Date\", \"calories\"])\n",
    "calories = calories.drop(0).reset_index().drop(columns=\"index\")"
   ]
  },
  {
   "cell_type": "code",
   "execution_count": 38,
   "metadata": {
    "scrolled": true
   },
   "outputs": [],
   "source": [
    "calories = calories.T"
   ]
  },
  {
   "cell_type": "code",
   "execution_count": 42,
   "metadata": {
    "scrolled": true
   },
   "outputs": [],
   "source": [
    "calories.columns = calories.iloc[0]"
   ]
  },
  {
   "cell_type": "code",
   "execution_count": 48,
   "metadata": {},
   "outputs": [],
   "source": [
    "calories.drop(\"Date\", inplace = True)"
   ]
  },
  {
   "cell_type": "code",
   "execution_count": 6,
   "metadata": {
    "scrolled": true
   },
   "outputs": [
    {
     "data": {
      "text/plain": [
       "True"
      ]
     },
     "execution_count": 6,
     "metadata": {},
     "output_type": "execute_result"
    }
   ],
   "source": [
    "rows[33] == [\"Activities\"]"
   ]
  },
  {
   "cell_type": "code",
   "execution_count": 7,
   "metadata": {},
   "outputs": [
    {
     "data": {
      "text/plain": [
       "33"
      ]
     },
     "execution_count": 7,
     "metadata": {},
     "output_type": "execute_result"
    }
   ],
   "source": [
    "rows.index([\"Activities\"])"
   ]
  },
  {
   "cell_type": "code",
   "execution_count": 8,
   "metadata": {
    "scrolled": true
   },
   "outputs": [],
   "source": [
    "# Get activities\n",
    "activities = []\n",
    "i = (rows.index([\"Activities\"]) +1)\n",
    "while rows[i] != []:\n",
    "    activities.append(rows[i])\n",
    "    i += 1\n",
    "    \n",
    "               "
   ]
  },
  {
   "cell_type": "code",
   "execution_count": 9,
   "metadata": {},
   "outputs": [],
   "source": [
    "activities = pd.DataFrame(activities)"
   ]
  },
  {
   "cell_type": "code",
   "execution_count": 10,
   "metadata": {},
   "outputs": [
    {
     "data": {
      "text/plain": [
       "array(['Date', 'Calories Burned', 'Steps', 'Distance', 'Floors',\n",
       "       'Minutes Sedentary', 'Minutes Lightly Active',\n",
       "       'Minutes Fairly Active', 'Minutes Very Active',\n",
       "       'Activity Calories'], dtype=object)"
      ]
     },
     "execution_count": 10,
     "metadata": {},
     "output_type": "execute_result"
    }
   ],
   "source": [
    "activities[:1].values[0]"
   ]
  },
  {
   "cell_type": "code",
   "execution_count": 11,
   "metadata": {},
   "outputs": [],
   "source": [
    "activities.columns=(activities[:1].values[0])"
   ]
  },
  {
   "cell_type": "code",
   "execution_count": 12,
   "metadata": {},
   "outputs": [],
   "source": [
    "activities.drop(0, inplace=True)"
   ]
  },
  {
   "cell_type": "code",
   "execution_count": 13,
   "metadata": {},
   "outputs": [],
   "source": [
    "activities = activities.reset_index().drop(columns=\"index\")"
   ]
  },
  {
   "cell_type": "code",
   "execution_count": 30,
   "metadata": {},
   "outputs": [
    {
     "data": {
      "text/html": [
       "<div>\n",
       "<style scoped>\n",
       "    .dataframe tbody tr th:only-of-type {\n",
       "        vertical-align: middle;\n",
       "    }\n",
       "\n",
       "    .dataframe tbody tr th {\n",
       "        vertical-align: top;\n",
       "    }\n",
       "\n",
       "    .dataframe thead th {\n",
       "        text-align: right;\n",
       "    }\n",
       "</style>\n",
       "<table border=\"1\" class=\"dataframe\">\n",
       "  <thead>\n",
       "    <tr style=\"text-align: right;\">\n",
       "      <th></th>\n",
       "      <th>0</th>\n",
       "      <th>1</th>\n",
       "      <th>2</th>\n",
       "      <th>3</th>\n",
       "      <th>4</th>\n",
       "      <th>5</th>\n",
       "      <th>6</th>\n",
       "      <th>7</th>\n",
       "      <th>8</th>\n",
       "    </tr>\n",
       "  </thead>\n",
       "  <tbody>\n",
       "    <tr>\n",
       "      <th>Date</th>\n",
       "      <td>2018-11-28</td>\n",
       "      <td>2018-11-29</td>\n",
       "      <td>2018-11-30</td>\n",
       "      <td>2018-12-01</td>\n",
       "      <td>2018-12-02</td>\n",
       "      <td>2018-12-03</td>\n",
       "      <td>2018-12-04</td>\n",
       "      <td>2018-12-05</td>\n",
       "      <td>2018-12-06</td>\n",
       "    </tr>\n",
       "    <tr>\n",
       "      <th>Calories Burned</th>\n",
       "      <td>3,088</td>\n",
       "      <td>3,693</td>\n",
       "      <td>3,269</td>\n",
       "      <td>3,813</td>\n",
       "      <td>3,957</td>\n",
       "      <td>3,660</td>\n",
       "      <td>3,384</td>\n",
       "      <td>3,670</td>\n",
       "      <td>3,669</td>\n",
       "    </tr>\n",
       "    <tr>\n",
       "      <th>Steps</th>\n",
       "      <td>7,602</td>\n",
       "      <td>12,380</td>\n",
       "      <td>9,559</td>\n",
       "      <td>14,510</td>\n",
       "      <td>13,257</td>\n",
       "      <td>12,915</td>\n",
       "      <td>13,763</td>\n",
       "      <td>13,865</td>\n",
       "      <td>14,774</td>\n",
       "    </tr>\n",
       "    <tr>\n",
       "      <th>Distance</th>\n",
       "      <td>3.59</td>\n",
       "      <td>6.56</td>\n",
       "      <td>4.51</td>\n",
       "      <td>7.27</td>\n",
       "      <td>6.23</td>\n",
       "      <td>6.12</td>\n",
       "      <td>6.49</td>\n",
       "      <td>6.52</td>\n",
       "      <td>6.96</td>\n",
       "    </tr>\n",
       "    <tr>\n",
       "      <th>Floors</th>\n",
       "      <td>16</td>\n",
       "      <td>18</td>\n",
       "      <td>14</td>\n",
       "      <td>7</td>\n",
       "      <td>195</td>\n",
       "      <td>6</td>\n",
       "      <td>13</td>\n",
       "      <td>12</td>\n",
       "      <td>9</td>\n",
       "    </tr>\n",
       "    <tr>\n",
       "      <th>Minutes Sedentary</th>\n",
       "      <td>717</td>\n",
       "      <td>717</td>\n",
       "      <td>699</td>\n",
       "      <td>527</td>\n",
       "      <td>725</td>\n",
       "      <td>782</td>\n",
       "      <td>608</td>\n",
       "      <td>739</td>\n",
       "      <td>647</td>\n",
       "    </tr>\n",
       "    <tr>\n",
       "      <th>Minutes Lightly Active</th>\n",
       "      <td>272</td>\n",
       "      <td>258</td>\n",
       "      <td>288</td>\n",
       "      <td>233</td>\n",
       "      <td>265</td>\n",
       "      <td>219</td>\n",
       "      <td>199</td>\n",
       "      <td>200</td>\n",
       "      <td>198</td>\n",
       "    </tr>\n",
       "    <tr>\n",
       "      <th>Minutes Fairly Active</th>\n",
       "      <td>0</td>\n",
       "      <td>15</td>\n",
       "      <td>12</td>\n",
       "      <td>22</td>\n",
       "      <td>13</td>\n",
       "      <td>40</td>\n",
       "      <td>11</td>\n",
       "      <td>12</td>\n",
       "      <td>4</td>\n",
       "    </tr>\n",
       "    <tr>\n",
       "      <th>Minutes Very Active</th>\n",
       "      <td>0</td>\n",
       "      <td>53</td>\n",
       "      <td>6</td>\n",
       "      <td>67</td>\n",
       "      <td>70</td>\n",
       "      <td>51</td>\n",
       "      <td>67</td>\n",
       "      <td>69</td>\n",
       "      <td>78</td>\n",
       "    </tr>\n",
       "    <tr>\n",
       "      <th>Activity Calories</th>\n",
       "      <td>1,361</td>\n",
       "      <td>2,051</td>\n",
       "      <td>1,577</td>\n",
       "      <td>2,124</td>\n",
       "      <td>2,305</td>\n",
       "      <td>1,993</td>\n",
       "      <td>1,663</td>\n",
       "      <td>1,968</td>\n",
       "      <td>1,962</td>\n",
       "    </tr>\n",
       "  </tbody>\n",
       "</table>\n",
       "</div>"
      ],
      "text/plain": [
       "                                 0           1           2           3  \\\n",
       "Date                    2018-11-28  2018-11-29  2018-11-30  2018-12-01   \n",
       "Calories Burned              3,088       3,693       3,269       3,813   \n",
       "Steps                        7,602      12,380       9,559      14,510   \n",
       "Distance                      3.59        6.56        4.51        7.27   \n",
       "Floors                          16          18          14           7   \n",
       "Minutes Sedentary              717         717         699         527   \n",
       "Minutes Lightly Active         272         258         288         233   \n",
       "Minutes Fairly Active            0          15          12          22   \n",
       "Minutes Very Active              0          53           6          67   \n",
       "Activity Calories            1,361       2,051       1,577       2,124   \n",
       "\n",
       "                                 4           5           6           7  \\\n",
       "Date                    2018-12-02  2018-12-03  2018-12-04  2018-12-05   \n",
       "Calories Burned              3,957       3,660       3,384       3,670   \n",
       "Steps                       13,257      12,915      13,763      13,865   \n",
       "Distance                      6.23        6.12        6.49        6.52   \n",
       "Floors                         195           6          13          12   \n",
       "Minutes Sedentary              725         782         608         739   \n",
       "Minutes Lightly Active         265         219         199         200   \n",
       "Minutes Fairly Active           13          40          11          12   \n",
       "Minutes Very Active             70          51          67          69   \n",
       "Activity Calories            2,305       1,993       1,663       1,968   \n",
       "\n",
       "                                 8  \n",
       "Date                    2018-12-06  \n",
       "Calories Burned              3,669  \n",
       "Steps                       14,774  \n",
       "Distance                      6.96  \n",
       "Floors                           9  \n",
       "Minutes Sedentary              647  \n",
       "Minutes Lightly Active         198  \n",
       "Minutes Fairly Active            4  \n",
       "Minutes Very Active             78  \n",
       "Activity Calories            1,962  "
      ]
     },
     "execution_count": 30,
     "metadata": {},
     "output_type": "execute_result"
    }
   ],
   "source": [
    "activities = activities.T\n",
    "activities"
   ]
  },
  {
   "cell_type": "code",
   "execution_count": 15,
   "metadata": {},
   "outputs": [
    {
     "data": {
      "text/plain": [
       "45"
      ]
     },
     "execution_count": 15,
     "metadata": {},
     "output_type": "execute_result"
    }
   ],
   "source": [
    "# Get food logs\n",
    "\n",
    "rows.index(['Food Log 20181128'])"
   ]
  },
  {
   "cell_type": "markdown",
   "metadata": {},
   "source": [
    "#### I need to turn the food logs to look like this:\n",
    "\n",
    "Index | date_1 | date_2 | date_3 | date_4 | ... | day_n |\n",
    "-------|--------|--------|--------|--------|-----|-------|\n",
    "Calories| 0 | 0 | 0 | 0 | 0 | 0 |\n",
    "Fat | 0 | 0 | 0 | 0 | 0 | 0 |\n",
    "... | | 0 | 0 | 0 | 0 | 0 | 0 |\n",
    "water | 0 | 0 | 0 | 0 | 0 | 0 |\n",
    "\n",
    "The plan: \n",
    "\n",
    "1. Add a new column with the date\n",
    "2. Remove all nulls\n",
    "3. Pivot the dataframe so that the dates are the columns"
   ]
  },
  {
   "cell_type": "code",
   "execution_count": 16,
   "metadata": {},
   "outputs": [],
   "source": [
    "# temp_idx = rows.index([]) \n",
    "# res = [rows[: temp_idx], rows[temp_idx + 1: ]] "
   ]
  },
  {
   "cell_type": "code",
   "execution_count": 17,
   "metadata": {},
   "outputs": [
    {
     "data": {
      "text/plain": [
       "True"
      ]
     },
     "execution_count": 17,
     "metadata": {},
     "output_type": "execute_result"
    }
   ],
   "source": [
    "\"Food Log\" in rows[45][0]"
   ]
  },
  {
   "cell_type": "code",
   "execution_count": 18,
   "metadata": {
    "scrolled": true
   },
   "outputs": [
    {
     "data": {
      "text/plain": [
       "'Food Log 20181128'"
      ]
     },
     "execution_count": 18,
     "metadata": {},
     "output_type": "execute_result"
    }
   ],
   "source": [
    "rows[45][0]"
   ]
  },
  {
   "cell_type": "code",
   "execution_count": 19,
   "metadata": {},
   "outputs": [],
   "source": [
    "indices = []\n",
    "for i, elem in enumerate(rows):\n",
    "    if rows[i] != []:\n",
    "        if 'Food Log' in rows[i][0]:\n",
    "            indices.append(i)"
   ]
  },
  {
   "cell_type": "code",
   "execution_count": 20,
   "metadata": {},
   "outputs": [],
   "source": [
    "food_logs = pd.DataFrame(rows[indices[0]:])"
   ]
  },
  {
   "cell_type": "code",
   "execution_count": 21,
   "metadata": {
    "scrolled": true
   },
   "outputs": [
    {
     "data": {
      "text/html": [
       "<div>\n",
       "<style scoped>\n",
       "    .dataframe tbody tr th:only-of-type {\n",
       "        vertical-align: middle;\n",
       "    }\n",
       "\n",
       "    .dataframe tbody tr th {\n",
       "        vertical-align: top;\n",
       "    }\n",
       "\n",
       "    .dataframe thead th {\n",
       "        text-align: right;\n",
       "    }\n",
       "</style>\n",
       "<table border=\"1\" class=\"dataframe\">\n",
       "  <thead>\n",
       "    <tr style=\"text-align: right;\">\n",
       "      <th></th>\n",
       "      <th>0</th>\n",
       "      <th>1</th>\n",
       "      <th>2</th>\n",
       "    </tr>\n",
       "  </thead>\n",
       "  <tbody>\n",
       "    <tr>\n",
       "      <th>0</th>\n",
       "      <td>Food Log 20181128</td>\n",
       "      <td>None</td>\n",
       "      <td>None</td>\n",
       "    </tr>\n",
       "    <tr>\n",
       "      <th>1</th>\n",
       "      <td>Daily Totals</td>\n",
       "      <td>None</td>\n",
       "      <td>None</td>\n",
       "    </tr>\n",
       "    <tr>\n",
       "      <th>2</th>\n",
       "      <td></td>\n",
       "      <td>Calories</td>\n",
       "      <td>0</td>\n",
       "    </tr>\n",
       "    <tr>\n",
       "      <th>3</th>\n",
       "      <td></td>\n",
       "      <td>Fat</td>\n",
       "      <td>0 g</td>\n",
       "    </tr>\n",
       "    <tr>\n",
       "      <th>4</th>\n",
       "      <td></td>\n",
       "      <td>Fiber</td>\n",
       "      <td>0 g</td>\n",
       "    </tr>\n",
       "    <tr>\n",
       "      <th>5</th>\n",
       "      <td></td>\n",
       "      <td>Carbs</td>\n",
       "      <td>0 g</td>\n",
       "    </tr>\n",
       "    <tr>\n",
       "      <th>6</th>\n",
       "      <td></td>\n",
       "      <td>Sodium</td>\n",
       "      <td>0 mg</td>\n",
       "    </tr>\n",
       "    <tr>\n",
       "      <th>7</th>\n",
       "      <td></td>\n",
       "      <td>Protein</td>\n",
       "      <td>0 g</td>\n",
       "    </tr>\n",
       "    <tr>\n",
       "      <th>8</th>\n",
       "      <td></td>\n",
       "      <td>Water</td>\n",
       "      <td>0 fl oz</td>\n",
       "    </tr>\n",
       "    <tr>\n",
       "      <th>9</th>\n",
       "      <td>None</td>\n",
       "      <td>None</td>\n",
       "      <td>None</td>\n",
       "    </tr>\n",
       "  </tbody>\n",
       "</table>\n",
       "</div>"
      ],
      "text/plain": [
       "                   0         1        2\n",
       "0  Food Log 20181128      None     None\n",
       "1       Daily Totals      None     None\n",
       "2                     Calories        0\n",
       "3                          Fat      0 g\n",
       "4                        Fiber      0 g\n",
       "5                        Carbs      0 g\n",
       "6                       Sodium     0 mg\n",
       "7                      Protein      0 g\n",
       "8                        Water  0 fl oz\n",
       "9               None      None     None"
      ]
     },
     "execution_count": 21,
     "metadata": {},
     "output_type": "execute_result"
    }
   ],
   "source": [
    "food_logs.head(10)"
   ]
  },
  {
   "cell_type": "code",
   "execution_count": 22,
   "metadata": {},
   "outputs": [],
   "source": [
    "import numpy as np"
   ]
  },
  {
   "cell_type": "code",
   "execution_count": 23,
   "metadata": {},
   "outputs": [],
   "source": [
    "food_logs[\"date\"] = np.nan"
   ]
  },
  {
   "cell_type": "code",
   "execution_count": 50,
   "metadata": {
    "scrolled": true
   },
   "outputs": [
    {
     "data": {
      "text/plain": [
       "Index(['Food Log 20181222', 'Food Log 20181208', 'Food Log 20181216',\n",
       "       'Food Log 20181225', 'Food Log 20181130', 'Food Log 20181128',\n",
       "       'Food Log 20181228', 'Food Log 20181204', 'Food Log 20181226',\n",
       "       'Food Log 20181209', 'Food Log 20181207', 'Food Log 20181205',\n",
       "       'Food Log 20181220', 'Food Log 20181224', 'Food Log 20181217',\n",
       "       'Food Log 20181213', 'Food Log 20181202', 'Food Log 20181203',\n",
       "       'Food Log 20181212', 'Food Log 20181218', 'Food Log 20181211',\n",
       "       'Food Log 20181210', 'Food Log 20181214', 'Food Log 20181201',\n",
       "       'Food Log 20181206', 'Food Log 20181129', 'Food Log 20181227',\n",
       "       'Food Log 20181221', 'Food Log 20181215', 'Food Log 20181223',\n",
       "       'Food Log 20181219'],\n",
       "      dtype='object')"
      ]
     },
     "execution_count": 50,
     "metadata": {},
     "output_type": "execute_result"
    }
   ],
   "source": [
    "dates"
   ]
  },
  {
   "cell_type": "code",
   "execution_count": 51,
   "metadata": {},
   "outputs": [
    {
     "data": {
      "text/html": [
       "<div>\n",
       "<style scoped>\n",
       "    .dataframe tbody tr th:only-of-type {\n",
       "        vertical-align: middle;\n",
       "    }\n",
       "\n",
       "    .dataframe tbody tr th {\n",
       "        vertical-align: top;\n",
       "    }\n",
       "\n",
       "    .dataframe thead th {\n",
       "        text-align: right;\n",
       "    }\n",
       "</style>\n",
       "<table border=\"1\" class=\"dataframe\">\n",
       "  <thead>\n",
       "    <tr style=\"text-align: right;\">\n",
       "      <th></th>\n",
       "      <th>0</th>\n",
       "      <th>1</th>\n",
       "      <th>2</th>\n",
       "      <th>date</th>\n",
       "    </tr>\n",
       "  </thead>\n",
       "  <tbody>\n",
       "    <tr>\n",
       "      <th>0</th>\n",
       "      <td>Food Log 20181128</td>\n",
       "      <td>None</td>\n",
       "      <td>None</td>\n",
       "      <td>NaN</td>\n",
       "    </tr>\n",
       "    <tr>\n",
       "      <th>1</th>\n",
       "      <td>Daily Totals</td>\n",
       "      <td>None</td>\n",
       "      <td>None</td>\n",
       "      <td>NaN</td>\n",
       "    </tr>\n",
       "    <tr>\n",
       "      <th>2</th>\n",
       "      <td></td>\n",
       "      <td>Calories</td>\n",
       "      <td>0</td>\n",
       "      <td>NaN</td>\n",
       "    </tr>\n",
       "    <tr>\n",
       "      <th>3</th>\n",
       "      <td></td>\n",
       "      <td>Fat</td>\n",
       "      <td>0 g</td>\n",
       "      <td>NaN</td>\n",
       "    </tr>\n",
       "    <tr>\n",
       "      <th>4</th>\n",
       "      <td></td>\n",
       "      <td>Fiber</td>\n",
       "      <td>0 g</td>\n",
       "      <td>NaN</td>\n",
       "    </tr>\n",
       "    <tr>\n",
       "      <th>...</th>\n",
       "      <td>...</td>\n",
       "      <td>...</td>\n",
       "      <td>...</td>\n",
       "      <td>...</td>\n",
       "    </tr>\n",
       "    <tr>\n",
       "      <th>305</th>\n",
       "      <td></td>\n",
       "      <td>Carbs</td>\n",
       "      <td>0 g</td>\n",
       "      <td>NaN</td>\n",
       "    </tr>\n",
       "    <tr>\n",
       "      <th>306</th>\n",
       "      <td></td>\n",
       "      <td>Sodium</td>\n",
       "      <td>0 mg</td>\n",
       "      <td>NaN</td>\n",
       "    </tr>\n",
       "    <tr>\n",
       "      <th>307</th>\n",
       "      <td></td>\n",
       "      <td>Protein</td>\n",
       "      <td>0 g</td>\n",
       "      <td>NaN</td>\n",
       "    </tr>\n",
       "    <tr>\n",
       "      <th>308</th>\n",
       "      <td></td>\n",
       "      <td>Water</td>\n",
       "      <td>0 fl oz</td>\n",
       "      <td>NaN</td>\n",
       "    </tr>\n",
       "    <tr>\n",
       "      <th>309</th>\n",
       "      <td>None</td>\n",
       "      <td>None</td>\n",
       "      <td>None</td>\n",
       "      <td>NaN</td>\n",
       "    </tr>\n",
       "  </tbody>\n",
       "</table>\n",
       "<p>310 rows × 4 columns</p>\n",
       "</div>"
      ],
      "text/plain": [
       "                     0         1        2  date\n",
       "0    Food Log 20181128      None     None   NaN\n",
       "1         Daily Totals      None     None   NaN\n",
       "2                       Calories        0   NaN\n",
       "3                            Fat      0 g   NaN\n",
       "4                          Fiber      0 g   NaN\n",
       "..                 ...       ...      ...   ...\n",
       "305                        Carbs      0 g   NaN\n",
       "306                       Sodium     0 mg   NaN\n",
       "307                      Protein      0 g   NaN\n",
       "308                        Water  0 fl oz   NaN\n",
       "309               None      None     None   NaN\n",
       "\n",
       "[310 rows x 4 columns]"
      ]
     },
     "execution_count": 51,
     "metadata": {},
     "output_type": "execute_result"
    }
   ],
   "source": [
    "food_logs"
   ]
  },
  {
   "cell_type": "code",
   "execution_count": 24,
   "metadata": {
    "scrolled": true
   },
   "outputs": [
    {
     "ename": "NameError",
     "evalue": "name 'dates' is not defined",
     "output_type": "error",
     "traceback": [
      "\u001b[0;31m---------------------------------------------------------------------------\u001b[0m",
      "\u001b[0;31mNameError\u001b[0m                                 Traceback (most recent call last)",
      "\u001b[0;32m<ipython-input-24-a520a5c6f922>\u001b[0m in \u001b[0;36m<module>\u001b[0;34m\u001b[0m\n\u001b[0;32m----> 1\u001b[0;31m \u001b[0mfood_logs\u001b[0m\u001b[0;34m.\u001b[0m\u001b[0mdate\u001b[0m \u001b[0;34m=\u001b[0m \u001b[0mfood_logs\u001b[0m\u001b[0;34m.\u001b[0m\u001b[0mdate\u001b[0m\u001b[0;34m.\u001b[0m\u001b[0mfillna\u001b[0m\u001b[0;34m(\u001b[0m\u001b[0mdates\u001b[0m\u001b[0;34m[\u001b[0m\u001b[0;36m0\u001b[0m\u001b[0;34m]\u001b[0m\u001b[0;34m,\u001b[0m \u001b[0mlimit\u001b[0m\u001b[0;34m=\u001b[0m\u001b[0;36m10\u001b[0m\u001b[0;34m)\u001b[0m\u001b[0;34m\u001b[0m\u001b[0;34m\u001b[0m\u001b[0m\n\u001b[0m",
      "\u001b[0;31mNameError\u001b[0m: name 'dates' is not defined"
     ]
    }
   ],
   "source": [
    "food_logs.date = food_logs.date.fillna(dates[0], limit=10)"
   ]
  },
  {
   "cell_type": "code",
   "execution_count": null,
   "metadata": {},
   "outputs": [],
   "source": [
    "for i in range(len(dates)):\n",
    "        print(i)\n",
    "        test = food_logs.date.fillna(dates[i], limit=9)\n"
   ]
  },
  {
   "cell_type": "code",
   "execution_count": 49,
   "metadata": {},
   "outputs": [],
   "source": [
    "dates = food_logs[0].value_counts()[2:].index"
   ]
  }
 ],
 "metadata": {
  "kernelspec": {
   "display_name": "Python 3",
   "language": "python",
   "name": "python3"
  },
  "language_info": {
   "codemirror_mode": {
    "name": "ipython",
    "version": 3
   },
   "file_extension": ".py",
   "mimetype": "text/x-python",
   "name": "python",
   "nbconvert_exporter": "python",
   "pygments_lexer": "ipython3",
   "version": "3.7.4"
  }
 },
 "nbformat": 4,
 "nbformat_minor": 2
}
