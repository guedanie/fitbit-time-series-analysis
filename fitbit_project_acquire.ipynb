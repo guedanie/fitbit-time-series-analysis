{
 "cells": [
  {
   "cell_type": "code",
   "execution_count": 3,
   "metadata": {},
   "outputs": [],
   "source": [
    "import csv\n",
    "import pandas as pd"
   ]
  },
  {
   "cell_type": "code",
   "execution_count": 4,
   "metadata": {},
   "outputs": [],
   "source": [
    "fields = [] \n",
    "rows = [] \n",
    "\n",
    "# reading csv file \n",
    "with open(\"2018-11-28_through_2018-12-28.csv\", 'r') as csvfile: \n",
    "    # creating a csv reader object \n",
    "    csvreader = csv.reader(csvfile) \n",
    "      \n",
    "    # extracting field names through first row \n",
    "    fields = next(csvreader) \n",
    "  \n",
    "    # extracting each data row one by one \n",
    "    for row in csvreader: \n",
    "        rows.append(row) \n",
    "\n",
    "df = pd.DataFrame(rows)"
   ]
  },
  {
   "cell_type": "code",
   "execution_count": 20,
   "metadata": {},
   "outputs": [
    {
     "data": {
      "text/plain": [
       "False"
      ]
     },
     "execution_count": 20,
     "metadata": {},
     "output_type": "execute_result"
    }
   ],
   "source": [
    "rows[32] != []"
   ]
  },
  {
   "cell_type": "code",
   "execution_count": 21,
   "metadata": {},
   "outputs": [],
   "source": [
    "# Get Calories\n",
    "\n",
    "calories = []\n",
    "date = []\n",
    "i = 0\n",
    "while rows[i] != []:\n",
    "    calories.append(rows[i])\n",
    "    i += 1\n",
    "    "
   ]
  },
  {
   "cell_type": "code",
   "execution_count": 23,
   "metadata": {
    "scrolled": true
   },
   "outputs": [
    {
     "data": {
      "text/html": [
       "<div>\n",
       "<style scoped>\n",
       "    .dataframe tbody tr th:only-of-type {\n",
       "        vertical-align: middle;\n",
       "    }\n",
       "\n",
       "    .dataframe tbody tr th {\n",
       "        vertical-align: top;\n",
       "    }\n",
       "\n",
       "    .dataframe thead th {\n",
       "        text-align: right;\n",
       "    }\n",
       "</style>\n",
       "<table border=\"1\" class=\"dataframe\">\n",
       "  <thead>\n",
       "    <tr style=\"text-align: right;\">\n",
       "      <th></th>\n",
       "      <th>Date</th>\n",
       "      <th>calories</th>\n",
       "    </tr>\n",
       "  </thead>\n",
       "  <tbody>\n",
       "    <tr>\n",
       "      <th>0</th>\n",
       "      <td>2018-11-29</td>\n",
       "      <td>0</td>\n",
       "    </tr>\n",
       "    <tr>\n",
       "      <th>1</th>\n",
       "      <td>2018-11-30</td>\n",
       "      <td>0</td>\n",
       "    </tr>\n",
       "    <tr>\n",
       "      <th>2</th>\n",
       "      <td>2018-12-01</td>\n",
       "      <td>0</td>\n",
       "    </tr>\n",
       "    <tr>\n",
       "      <th>3</th>\n",
       "      <td>2018-12-02</td>\n",
       "      <td>0</td>\n",
       "    </tr>\n",
       "    <tr>\n",
       "      <th>4</th>\n",
       "      <td>2018-12-03</td>\n",
       "      <td>0</td>\n",
       "    </tr>\n",
       "    <tr>\n",
       "      <th>5</th>\n",
       "      <td>2018-12-04</td>\n",
       "      <td>0</td>\n",
       "    </tr>\n",
       "    <tr>\n",
       "      <th>6</th>\n",
       "      <td>2018-12-05</td>\n",
       "      <td>0</td>\n",
       "    </tr>\n",
       "    <tr>\n",
       "      <th>7</th>\n",
       "      <td>2018-12-06</td>\n",
       "      <td>0</td>\n",
       "    </tr>\n",
       "    <tr>\n",
       "      <th>8</th>\n",
       "      <td>2018-12-07</td>\n",
       "      <td>0</td>\n",
       "    </tr>\n",
       "    <tr>\n",
       "      <th>9</th>\n",
       "      <td>2018-12-08</td>\n",
       "      <td>0</td>\n",
       "    </tr>\n",
       "    <tr>\n",
       "      <th>10</th>\n",
       "      <td>2018-12-09</td>\n",
       "      <td>0</td>\n",
       "    </tr>\n",
       "    <tr>\n",
       "      <th>11</th>\n",
       "      <td>2018-12-10</td>\n",
       "      <td>0</td>\n",
       "    </tr>\n",
       "    <tr>\n",
       "      <th>12</th>\n",
       "      <td>2018-12-11</td>\n",
       "      <td>0</td>\n",
       "    </tr>\n",
       "    <tr>\n",
       "      <th>13</th>\n",
       "      <td>2018-12-12</td>\n",
       "      <td>0</td>\n",
       "    </tr>\n",
       "    <tr>\n",
       "      <th>14</th>\n",
       "      <td>2018-12-13</td>\n",
       "      <td>0</td>\n",
       "    </tr>\n",
       "    <tr>\n",
       "      <th>15</th>\n",
       "      <td>2018-12-14</td>\n",
       "      <td>0</td>\n",
       "    </tr>\n",
       "    <tr>\n",
       "      <th>16</th>\n",
       "      <td>2018-12-15</td>\n",
       "      <td>0</td>\n",
       "    </tr>\n",
       "    <tr>\n",
       "      <th>17</th>\n",
       "      <td>2018-12-16</td>\n",
       "      <td>0</td>\n",
       "    </tr>\n",
       "    <tr>\n",
       "      <th>18</th>\n",
       "      <td>2018-12-17</td>\n",
       "      <td>0</td>\n",
       "    </tr>\n",
       "    <tr>\n",
       "      <th>19</th>\n",
       "      <td>2018-12-18</td>\n",
       "      <td>0</td>\n",
       "    </tr>\n",
       "    <tr>\n",
       "      <th>20</th>\n",
       "      <td>2018-12-19</td>\n",
       "      <td>0</td>\n",
       "    </tr>\n",
       "    <tr>\n",
       "      <th>21</th>\n",
       "      <td>2018-12-20</td>\n",
       "      <td>0</td>\n",
       "    </tr>\n",
       "    <tr>\n",
       "      <th>22</th>\n",
       "      <td>2018-12-21</td>\n",
       "      <td>0</td>\n",
       "    </tr>\n",
       "    <tr>\n",
       "      <th>23</th>\n",
       "      <td>2018-12-22</td>\n",
       "      <td>0</td>\n",
       "    </tr>\n",
       "    <tr>\n",
       "      <th>24</th>\n",
       "      <td>2018-12-23</td>\n",
       "      <td>0</td>\n",
       "    </tr>\n",
       "    <tr>\n",
       "      <th>25</th>\n",
       "      <td>2018-12-24</td>\n",
       "      <td>0</td>\n",
       "    </tr>\n",
       "    <tr>\n",
       "      <th>26</th>\n",
       "      <td>2018-12-25</td>\n",
       "      <td>0</td>\n",
       "    </tr>\n",
       "    <tr>\n",
       "      <th>27</th>\n",
       "      <td>2018-12-26</td>\n",
       "      <td>0</td>\n",
       "    </tr>\n",
       "    <tr>\n",
       "      <th>28</th>\n",
       "      <td>2018-12-27</td>\n",
       "      <td>0</td>\n",
       "    </tr>\n",
       "    <tr>\n",
       "      <th>29</th>\n",
       "      <td>2018-12-28</td>\n",
       "      <td>0</td>\n",
       "    </tr>\n",
       "  </tbody>\n",
       "</table>\n",
       "</div>"
      ],
      "text/plain": [
       "          Date calories\n",
       "0   2018-11-29        0\n",
       "1   2018-11-30        0\n",
       "2   2018-12-01        0\n",
       "3   2018-12-02        0\n",
       "4   2018-12-03        0\n",
       "5   2018-12-04        0\n",
       "6   2018-12-05        0\n",
       "7   2018-12-06        0\n",
       "8   2018-12-07        0\n",
       "9   2018-12-08        0\n",
       "10  2018-12-09        0\n",
       "11  2018-12-10        0\n",
       "12  2018-12-11        0\n",
       "13  2018-12-12        0\n",
       "14  2018-12-13        0\n",
       "15  2018-12-14        0\n",
       "16  2018-12-15        0\n",
       "17  2018-12-16        0\n",
       "18  2018-12-17        0\n",
       "19  2018-12-18        0\n",
       "20  2018-12-19        0\n",
       "21  2018-12-20        0\n",
       "22  2018-12-21        0\n",
       "23  2018-12-22        0\n",
       "24  2018-12-23        0\n",
       "25  2018-12-24        0\n",
       "26  2018-12-25        0\n",
       "27  2018-12-26        0\n",
       "28  2018-12-27        0\n",
       "29  2018-12-28        0"
      ]
     },
     "execution_count": 23,
     "metadata": {},
     "output_type": "execute_result"
    }
   ],
   "source": [
    "calories = pd.DataFrame(calories, columns=[\"Date\", \"calories\"])\n",
    "calories = calories.drop(0).reset_index().drop(columns=\"index\")\n",
    "calories"
   ]
  },
  {
   "cell_type": "code",
   "execution_count": 33,
   "metadata": {},
   "outputs": [
    {
     "data": {
      "text/plain": [
       "True"
      ]
     },
     "execution_count": 33,
     "metadata": {},
     "output_type": "execute_result"
    }
   ],
   "source": [
    "rows[33] == [\"Activities\"]"
   ]
  },
  {
   "cell_type": "code",
   "execution_count": 39,
   "metadata": {},
   "outputs": [
    {
     "data": {
      "text/plain": [
       "33"
      ]
     },
     "execution_count": 39,
     "metadata": {},
     "output_type": "execute_result"
    }
   ],
   "source": [
    "rows.index([\"Activities\"])"
   ]
  },
  {
   "cell_type": "code",
   "execution_count": 47,
   "metadata": {
    "scrolled": true
   },
   "outputs": [],
   "source": [
    "# Get activities\n",
    "activities = []\n",
    "i = (rows.index([\"Activities\"]) +1)\n",
    "while rows[i] != []:\n",
    "    activities.append(rows[i])\n",
    "    i += 1\n",
    "    \n",
    "               "
   ]
  },
  {
   "cell_type": "code",
   "execution_count": 50,
   "metadata": {},
   "outputs": [],
   "source": [
    "activities = pd.DataFrame(activities)"
   ]
  },
  {
   "cell_type": "code",
   "execution_count": 60,
   "metadata": {},
   "outputs": [
    {
     "data": {
      "text/plain": [
       "array(['Date', 'Calories Burned', 'Steps', 'Distance', 'Floors',\n",
       "       'Minutes Sedentary', 'Minutes Lightly Active',\n",
       "       'Minutes Fairly Active', 'Minutes Very Active',\n",
       "       'Activity Calories'], dtype=object)"
      ]
     },
     "execution_count": 60,
     "metadata": {},
     "output_type": "execute_result"
    }
   ],
   "source": [
    "activities[:1].values[0]"
   ]
  },
  {
   "cell_type": "code",
   "execution_count": 61,
   "metadata": {},
   "outputs": [],
   "source": [
    "activities.columns=(activities[:1].values[0])"
   ]
  },
  {
   "cell_type": "code",
   "execution_count": 65,
   "metadata": {},
   "outputs": [
    {
     "ename": "KeyError",
     "evalue": "'[0] not found in axis'",
     "output_type": "error",
     "traceback": [
      "\u001b[0;31m---------------------------------------------------------------------------\u001b[0m",
      "\u001b[0;31mKeyError\u001b[0m                                  Traceback (most recent call last)",
      "\u001b[0;32m<ipython-input-65-565f4337e04f>\u001b[0m in \u001b[0;36m<module>\u001b[0;34m\u001b[0m\n\u001b[0;32m----> 1\u001b[0;31m \u001b[0mactivities\u001b[0m\u001b[0;34m.\u001b[0m\u001b[0mdrop\u001b[0m\u001b[0;34m(\u001b[0m\u001b[0;36m0\u001b[0m\u001b[0;34m,\u001b[0m \u001b[0minplace\u001b[0m\u001b[0;34m=\u001b[0m\u001b[0;32mTrue\u001b[0m\u001b[0;34m)\u001b[0m\u001b[0;34m.\u001b[0m\u001b[0mreset_index\u001b[0m\u001b[0;34m(\u001b[0m\u001b[0;34m)\u001b[0m\u001b[0;34m\u001b[0m\u001b[0;34m\u001b[0m\u001b[0m\n\u001b[0m",
      "\u001b[0;32m/usr/local/anaconda3/lib/python3.7/site-packages/pandas/core/frame.py\u001b[0m in \u001b[0;36mdrop\u001b[0;34m(self, labels, axis, index, columns, level, inplace, errors)\u001b[0m\n\u001b[1;32m   4115\u001b[0m             \u001b[0mlevel\u001b[0m\u001b[0;34m=\u001b[0m\u001b[0mlevel\u001b[0m\u001b[0;34m,\u001b[0m\u001b[0;34m\u001b[0m\u001b[0;34m\u001b[0m\u001b[0m\n\u001b[1;32m   4116\u001b[0m             \u001b[0minplace\u001b[0m\u001b[0;34m=\u001b[0m\u001b[0minplace\u001b[0m\u001b[0;34m,\u001b[0m\u001b[0;34m\u001b[0m\u001b[0;34m\u001b[0m\u001b[0m\n\u001b[0;32m-> 4117\u001b[0;31m             \u001b[0merrors\u001b[0m\u001b[0;34m=\u001b[0m\u001b[0merrors\u001b[0m\u001b[0;34m,\u001b[0m\u001b[0;34m\u001b[0m\u001b[0;34m\u001b[0m\u001b[0m\n\u001b[0m\u001b[1;32m   4118\u001b[0m         )\n\u001b[1;32m   4119\u001b[0m \u001b[0;34m\u001b[0m\u001b[0m\n",
      "\u001b[0;32m/usr/local/anaconda3/lib/python3.7/site-packages/pandas/core/generic.py\u001b[0m in \u001b[0;36mdrop\u001b[0;34m(self, labels, axis, index, columns, level, inplace, errors)\u001b[0m\n\u001b[1;32m   3912\u001b[0m         \u001b[0;32mfor\u001b[0m \u001b[0maxis\u001b[0m\u001b[0;34m,\u001b[0m \u001b[0mlabels\u001b[0m \u001b[0;32min\u001b[0m \u001b[0maxes\u001b[0m\u001b[0;34m.\u001b[0m\u001b[0mitems\u001b[0m\u001b[0;34m(\u001b[0m\u001b[0;34m)\u001b[0m\u001b[0;34m:\u001b[0m\u001b[0;34m\u001b[0m\u001b[0;34m\u001b[0m\u001b[0m\n\u001b[1;32m   3913\u001b[0m             \u001b[0;32mif\u001b[0m \u001b[0mlabels\u001b[0m \u001b[0;32mis\u001b[0m \u001b[0;32mnot\u001b[0m \u001b[0;32mNone\u001b[0m\u001b[0;34m:\u001b[0m\u001b[0;34m\u001b[0m\u001b[0;34m\u001b[0m\u001b[0m\n\u001b[0;32m-> 3914\u001b[0;31m                 \u001b[0mobj\u001b[0m \u001b[0;34m=\u001b[0m \u001b[0mobj\u001b[0m\u001b[0;34m.\u001b[0m\u001b[0m_drop_axis\u001b[0m\u001b[0;34m(\u001b[0m\u001b[0mlabels\u001b[0m\u001b[0;34m,\u001b[0m \u001b[0maxis\u001b[0m\u001b[0;34m,\u001b[0m \u001b[0mlevel\u001b[0m\u001b[0;34m=\u001b[0m\u001b[0mlevel\u001b[0m\u001b[0;34m,\u001b[0m \u001b[0merrors\u001b[0m\u001b[0;34m=\u001b[0m\u001b[0merrors\u001b[0m\u001b[0;34m)\u001b[0m\u001b[0;34m\u001b[0m\u001b[0;34m\u001b[0m\u001b[0m\n\u001b[0m\u001b[1;32m   3915\u001b[0m \u001b[0;34m\u001b[0m\u001b[0m\n\u001b[1;32m   3916\u001b[0m         \u001b[0;32mif\u001b[0m \u001b[0minplace\u001b[0m\u001b[0;34m:\u001b[0m\u001b[0;34m\u001b[0m\u001b[0;34m\u001b[0m\u001b[0m\n",
      "\u001b[0;32m/usr/local/anaconda3/lib/python3.7/site-packages/pandas/core/generic.py\u001b[0m in \u001b[0;36m_drop_axis\u001b[0;34m(self, labels, axis, level, errors)\u001b[0m\n\u001b[1;32m   3944\u001b[0m                 \u001b[0mnew_axis\u001b[0m \u001b[0;34m=\u001b[0m \u001b[0maxis\u001b[0m\u001b[0;34m.\u001b[0m\u001b[0mdrop\u001b[0m\u001b[0;34m(\u001b[0m\u001b[0mlabels\u001b[0m\u001b[0;34m,\u001b[0m \u001b[0mlevel\u001b[0m\u001b[0;34m=\u001b[0m\u001b[0mlevel\u001b[0m\u001b[0;34m,\u001b[0m \u001b[0merrors\u001b[0m\u001b[0;34m=\u001b[0m\u001b[0merrors\u001b[0m\u001b[0;34m)\u001b[0m\u001b[0;34m\u001b[0m\u001b[0;34m\u001b[0m\u001b[0m\n\u001b[1;32m   3945\u001b[0m             \u001b[0;32melse\u001b[0m\u001b[0;34m:\u001b[0m\u001b[0;34m\u001b[0m\u001b[0;34m\u001b[0m\u001b[0m\n\u001b[0;32m-> 3946\u001b[0;31m                 \u001b[0mnew_axis\u001b[0m \u001b[0;34m=\u001b[0m \u001b[0maxis\u001b[0m\u001b[0;34m.\u001b[0m\u001b[0mdrop\u001b[0m\u001b[0;34m(\u001b[0m\u001b[0mlabels\u001b[0m\u001b[0;34m,\u001b[0m \u001b[0merrors\u001b[0m\u001b[0;34m=\u001b[0m\u001b[0merrors\u001b[0m\u001b[0;34m)\u001b[0m\u001b[0;34m\u001b[0m\u001b[0;34m\u001b[0m\u001b[0m\n\u001b[0m\u001b[1;32m   3947\u001b[0m             \u001b[0mresult\u001b[0m \u001b[0;34m=\u001b[0m \u001b[0mself\u001b[0m\u001b[0;34m.\u001b[0m\u001b[0mreindex\u001b[0m\u001b[0;34m(\u001b[0m\u001b[0;34m**\u001b[0m\u001b[0;34m{\u001b[0m\u001b[0maxis_name\u001b[0m\u001b[0;34m:\u001b[0m \u001b[0mnew_axis\u001b[0m\u001b[0;34m}\u001b[0m\u001b[0;34m)\u001b[0m\u001b[0;34m\u001b[0m\u001b[0;34m\u001b[0m\u001b[0m\n\u001b[1;32m   3948\u001b[0m \u001b[0;34m\u001b[0m\u001b[0m\n",
      "\u001b[0;32m/usr/local/anaconda3/lib/python3.7/site-packages/pandas/core/indexes/base.py\u001b[0m in \u001b[0;36mdrop\u001b[0;34m(self, labels, errors)\u001b[0m\n\u001b[1;32m   5338\u001b[0m         \u001b[0;32mif\u001b[0m \u001b[0mmask\u001b[0m\u001b[0;34m.\u001b[0m\u001b[0many\u001b[0m\u001b[0;34m(\u001b[0m\u001b[0;34m)\u001b[0m\u001b[0;34m:\u001b[0m\u001b[0;34m\u001b[0m\u001b[0;34m\u001b[0m\u001b[0m\n\u001b[1;32m   5339\u001b[0m             \u001b[0;32mif\u001b[0m \u001b[0merrors\u001b[0m \u001b[0;34m!=\u001b[0m \u001b[0;34m\"ignore\"\u001b[0m\u001b[0;34m:\u001b[0m\u001b[0;34m\u001b[0m\u001b[0;34m\u001b[0m\u001b[0m\n\u001b[0;32m-> 5340\u001b[0;31m                 \u001b[0;32mraise\u001b[0m \u001b[0mKeyError\u001b[0m\u001b[0;34m(\u001b[0m\u001b[0;34m\"{} not found in axis\"\u001b[0m\u001b[0;34m.\u001b[0m\u001b[0mformat\u001b[0m\u001b[0;34m(\u001b[0m\u001b[0mlabels\u001b[0m\u001b[0;34m[\u001b[0m\u001b[0mmask\u001b[0m\u001b[0;34m]\u001b[0m\u001b[0;34m)\u001b[0m\u001b[0;34m)\u001b[0m\u001b[0;34m\u001b[0m\u001b[0;34m\u001b[0m\u001b[0m\n\u001b[0m\u001b[1;32m   5341\u001b[0m             \u001b[0mindexer\u001b[0m \u001b[0;34m=\u001b[0m \u001b[0mindexer\u001b[0m\u001b[0;34m[\u001b[0m\u001b[0;34m~\u001b[0m\u001b[0mmask\u001b[0m\u001b[0;34m]\u001b[0m\u001b[0;34m\u001b[0m\u001b[0;34m\u001b[0m\u001b[0m\n\u001b[1;32m   5342\u001b[0m         \u001b[0;32mreturn\u001b[0m \u001b[0mself\u001b[0m\u001b[0;34m.\u001b[0m\u001b[0mdelete\u001b[0m\u001b[0;34m(\u001b[0m\u001b[0mindexer\u001b[0m\u001b[0;34m)\u001b[0m\u001b[0;34m\u001b[0m\u001b[0;34m\u001b[0m\u001b[0m\n",
      "\u001b[0;31mKeyError\u001b[0m: '[0] not found in axis'"
     ]
    }
   ],
   "source": [
    "activities.drop(0, inplace=True)"
   ]
  },
  {
   "cell_type": "code",
   "execution_count": 69,
   "metadata": {},
   "outputs": [],
   "source": [
    "activities = activities.reset_index().drop(columns=\"index\")"
   ]
  },
  {
   "cell_type": "code",
   "execution_count": 73,
   "metadata": {},
   "outputs": [
    {
     "data": {
      "text/plain": [
       "45"
      ]
     },
     "execution_count": 73,
     "metadata": {},
     "output_type": "execute_result"
    }
   ],
   "source": [
    "# Get food logs\n",
    "\n",
    "rows.index(['Food Log 20181128'])"
   ]
  },
  {
   "cell_type": "code",
   "execution_count": 100,
   "metadata": {},
   "outputs": [],
   "source": [
    "temp_idx = rows.index([]) \n",
    "res = [rows[: temp_idx], rows[temp_idx + 1: ]] "
   ]
  },
  {
   "cell_type": "code",
   "execution_count": 107,
   "metadata": {},
   "outputs": [],
   "source": [
    "temp_idx = res[1].index([]) \n",
    "res_2 = [rows[: temp_idx], res[1][temp_idx + 1: ]] "
   ]
  },
  {
   "cell_type": "code",
   "execution_count": 139,
   "metadata": {},
   "outputs": [
    {
     "data": {
      "text/plain": [
       "[['Food Log 20181128'],\n",
       " ['Daily Totals'],\n",
       " ['', 'Calories', '0'],\n",
       " ['', 'Fat', '0 g'],\n",
       " ['', 'Fiber', '0 g'],\n",
       " ['', 'Carbs', '0 g'],\n",
       " ['', 'Sodium', '0 mg'],\n",
       " ['', 'Protein', '0 g'],\n",
       " ['', 'Water', '0 fl oz'],\n",
       " [],\n",
       " ['Food Log 20181129'],\n",
       " ['Daily Totals'],\n",
       " ['', 'Calories', '0'],\n",
       " ['', 'Fat', '0 g'],\n",
       " ['', 'Fiber', '0 g'],\n",
       " ['', 'Carbs', '0 g'],\n",
       " ['', 'Sodium', '0 mg'],\n",
       " ['', 'Protein', '0 g'],\n",
       " ['', 'Water', '0 fl oz'],\n",
       " [],\n",
       " ['Food Log 20181130'],\n",
       " ['Daily Totals'],\n",
       " ['', 'Calories', '0'],\n",
       " ['', 'Fat', '0 g'],\n",
       " ['', 'Fiber', '0 g'],\n",
       " ['', 'Carbs', '0 g'],\n",
       " ['', 'Sodium', '0 mg'],\n",
       " ['', 'Protein', '0 g'],\n",
       " ['', 'Water', '0 fl oz'],\n",
       " [],\n",
       " ['Food Log 20181201'],\n",
       " ['Daily Totals'],\n",
       " ['', 'Calories', '0'],\n",
       " ['', 'Fat', '0 g'],\n",
       " ['', 'Fiber', '0 g'],\n",
       " ['', 'Carbs', '0 g'],\n",
       " ['', 'Sodium', '0 mg'],\n",
       " ['', 'Protein', '0 g'],\n",
       " ['', 'Water', '0 fl oz'],\n",
       " [],\n",
       " ['Food Log 20181202'],\n",
       " ['Daily Totals'],\n",
       " ['', 'Calories', '0'],\n",
       " ['', 'Fat', '0 g'],\n",
       " ['', 'Fiber', '0 g'],\n",
       " ['', 'Carbs', '0 g'],\n",
       " ['', 'Sodium', '0 mg'],\n",
       " ['', 'Protein', '0 g'],\n",
       " ['', 'Water', '0 fl oz'],\n",
       " [],\n",
       " ['Food Log 20181203'],\n",
       " ['Daily Totals'],\n",
       " ['', 'Calories', '0'],\n",
       " ['', 'Fat', '0 g'],\n",
       " ['', 'Fiber', '0 g'],\n",
       " ['', 'Carbs', '0 g'],\n",
       " ['', 'Sodium', '0 mg'],\n",
       " ['', 'Protein', '0 g'],\n",
       " ['', 'Water', '0 fl oz'],\n",
       " [],\n",
       " ['Food Log 20181204'],\n",
       " ['Daily Totals'],\n",
       " ['', 'Calories', '0'],\n",
       " ['', 'Fat', '0 g'],\n",
       " ['', 'Fiber', '0 g'],\n",
       " ['', 'Carbs', '0 g'],\n",
       " ['', 'Sodium', '0 mg'],\n",
       " ['', 'Protein', '0 g'],\n",
       " ['', 'Water', '0 fl oz'],\n",
       " [],\n",
       " ['Food Log 20181205'],\n",
       " ['Daily Totals'],\n",
       " ['', 'Calories', '0'],\n",
       " ['', 'Fat', '0 g'],\n",
       " ['', 'Fiber', '0 g'],\n",
       " ['', 'Carbs', '0 g'],\n",
       " ['', 'Sodium', '0 mg'],\n",
       " ['', 'Protein', '0 g'],\n",
       " ['', 'Water', '0 fl oz'],\n",
       " [],\n",
       " ['Food Log 20181206'],\n",
       " ['Daily Totals'],\n",
       " ['', 'Calories', '0'],\n",
       " ['', 'Fat', '0 g'],\n",
       " ['', 'Fiber', '0 g'],\n",
       " ['', 'Carbs', '0 g'],\n",
       " ['', 'Sodium', '0 mg'],\n",
       " ['', 'Protein', '0 g'],\n",
       " ['', 'Water', '0 fl oz'],\n",
       " [],\n",
       " ['Food Log 20181207'],\n",
       " ['Daily Totals'],\n",
       " ['', 'Calories', '0'],\n",
       " ['', 'Fat', '0 g'],\n",
       " ['', 'Fiber', '0 g'],\n",
       " ['', 'Carbs', '0 g'],\n",
       " ['', 'Sodium', '0 mg'],\n",
       " ['', 'Protein', '0 g'],\n",
       " ['', 'Water', '0 fl oz'],\n",
       " [],\n",
       " ['Food Log 20181208'],\n",
       " ['Daily Totals'],\n",
       " ['', 'Calories', '0'],\n",
       " ['', 'Fat', '0 g'],\n",
       " ['', 'Fiber', '0 g'],\n",
       " ['', 'Carbs', '0 g'],\n",
       " ['', 'Sodium', '0 mg'],\n",
       " ['', 'Protein', '0 g'],\n",
       " ['', 'Water', '0 fl oz'],\n",
       " [],\n",
       " ['Food Log 20181209'],\n",
       " ['Daily Totals'],\n",
       " ['', 'Calories', '0'],\n",
       " ['', 'Fat', '0 g'],\n",
       " ['', 'Fiber', '0 g'],\n",
       " ['', 'Carbs', '0 g'],\n",
       " ['', 'Sodium', '0 mg'],\n",
       " ['', 'Protein', '0 g'],\n",
       " ['', 'Water', '0 fl oz'],\n",
       " [],\n",
       " ['Food Log 20181210'],\n",
       " ['Daily Totals'],\n",
       " ['', 'Calories', '0'],\n",
       " ['', 'Fat', '0 g'],\n",
       " ['', 'Fiber', '0 g'],\n",
       " ['', 'Carbs', '0 g'],\n",
       " ['', 'Sodium', '0 mg'],\n",
       " ['', 'Protein', '0 g'],\n",
       " ['', 'Water', '0 fl oz'],\n",
       " [],\n",
       " ['Food Log 20181211'],\n",
       " ['Daily Totals'],\n",
       " ['', 'Calories', '0'],\n",
       " ['', 'Fat', '0 g'],\n",
       " ['', 'Fiber', '0 g'],\n",
       " ['', 'Carbs', '0 g'],\n",
       " ['', 'Sodium', '0 mg'],\n",
       " ['', 'Protein', '0 g'],\n",
       " ['', 'Water', '0 fl oz'],\n",
       " [],\n",
       " ['Food Log 20181212'],\n",
       " ['Daily Totals'],\n",
       " ['', 'Calories', '0'],\n",
       " ['', 'Fat', '0 g'],\n",
       " ['', 'Fiber', '0 g'],\n",
       " ['', 'Carbs', '0 g'],\n",
       " ['', 'Sodium', '0 mg'],\n",
       " ['', 'Protein', '0 g'],\n",
       " ['', 'Water', '0 fl oz'],\n",
       " [],\n",
       " ['Food Log 20181213'],\n",
       " ['Daily Totals'],\n",
       " ['', 'Calories', '0'],\n",
       " ['', 'Fat', '0 g'],\n",
       " ['', 'Fiber', '0 g'],\n",
       " ['', 'Carbs', '0 g'],\n",
       " ['', 'Sodium', '0 mg'],\n",
       " ['', 'Protein', '0 g'],\n",
       " ['', 'Water', '0 fl oz'],\n",
       " [],\n",
       " ['Food Log 20181214'],\n",
       " ['Daily Totals'],\n",
       " ['', 'Calories', '0'],\n",
       " ['', 'Fat', '0 g'],\n",
       " ['', 'Fiber', '0 g'],\n",
       " ['', 'Carbs', '0 g'],\n",
       " ['', 'Sodium', '0 mg'],\n",
       " ['', 'Protein', '0 g'],\n",
       " ['', 'Water', '0 fl oz'],\n",
       " [],\n",
       " ['Food Log 20181215'],\n",
       " ['Daily Totals'],\n",
       " ['', 'Calories', '0'],\n",
       " ['', 'Fat', '0 g'],\n",
       " ['', 'Fiber', '0 g'],\n",
       " ['', 'Carbs', '0 g'],\n",
       " ['', 'Sodium', '0 mg'],\n",
       " ['', 'Protein', '0 g'],\n",
       " ['', 'Water', '0 fl oz'],\n",
       " [],\n",
       " ['Food Log 20181216'],\n",
       " ['Daily Totals'],\n",
       " ['', 'Calories', '0'],\n",
       " ['', 'Fat', '0 g'],\n",
       " ['', 'Fiber', '0 g'],\n",
       " ['', 'Carbs', '0 g'],\n",
       " ['', 'Sodium', '0 mg'],\n",
       " ['', 'Protein', '0 g'],\n",
       " ['', 'Water', '0 fl oz'],\n",
       " [],\n",
       " ['Food Log 20181217'],\n",
       " ['Daily Totals'],\n",
       " ['', 'Calories', '0'],\n",
       " ['', 'Fat', '0 g'],\n",
       " ['', 'Fiber', '0 g'],\n",
       " ['', 'Carbs', '0 g'],\n",
       " ['', 'Sodium', '0 mg'],\n",
       " ['', 'Protein', '0 g'],\n",
       " ['', 'Water', '0 fl oz'],\n",
       " [],\n",
       " ['Food Log 20181218'],\n",
       " ['Daily Totals'],\n",
       " ['', 'Calories', '0'],\n",
       " ['', 'Fat', '0 g'],\n",
       " ['', 'Fiber', '0 g'],\n",
       " ['', 'Carbs', '0 g'],\n",
       " ['', 'Sodium', '0 mg'],\n",
       " ['', 'Protein', '0 g'],\n",
       " ['', 'Water', '0 fl oz'],\n",
       " [],\n",
       " ['Food Log 20181219'],\n",
       " ['Daily Totals'],\n",
       " ['', 'Calories', '0'],\n",
       " ['', 'Fat', '0 g'],\n",
       " ['', 'Fiber', '0 g'],\n",
       " ['', 'Carbs', '0 g'],\n",
       " ['', 'Sodium', '0 mg'],\n",
       " ['', 'Protein', '0 g'],\n",
       " ['', 'Water', '0 fl oz'],\n",
       " [],\n",
       " ['Food Log 20181220'],\n",
       " ['Daily Totals'],\n",
       " ['', 'Calories', '0'],\n",
       " ['', 'Fat', '0 g'],\n",
       " ['', 'Fiber', '0 g'],\n",
       " ['', 'Carbs', '0 g'],\n",
       " ['', 'Sodium', '0 mg'],\n",
       " ['', 'Protein', '0 g'],\n",
       " ['', 'Water', '0 fl oz'],\n",
       " [],\n",
       " ['Food Log 20181221'],\n",
       " ['Daily Totals'],\n",
       " ['', 'Calories', '0'],\n",
       " ['', 'Fat', '0 g'],\n",
       " ['', 'Fiber', '0 g'],\n",
       " ['', 'Carbs', '0 g'],\n",
       " ['', 'Sodium', '0 mg'],\n",
       " ['', 'Protein', '0 g'],\n",
       " ['', 'Water', '0 fl oz'],\n",
       " [],\n",
       " ['Food Log 20181222'],\n",
       " ['Daily Totals'],\n",
       " ['', 'Calories', '0'],\n",
       " ['', 'Fat', '0 g'],\n",
       " ['', 'Fiber', '0 g'],\n",
       " ['', 'Carbs', '0 g'],\n",
       " ['', 'Sodium', '0 mg'],\n",
       " ['', 'Protein', '0 g'],\n",
       " ['', 'Water', '0 fl oz'],\n",
       " [],\n",
       " ['Food Log 20181223'],\n",
       " ['Daily Totals'],\n",
       " ['', 'Calories', '0'],\n",
       " ['', 'Fat', '0 g'],\n",
       " ['', 'Fiber', '0 g'],\n",
       " ['', 'Carbs', '0 g'],\n",
       " ['', 'Sodium', '0 mg'],\n",
       " ['', 'Protein', '0 g'],\n",
       " ['', 'Water', '0 fl oz'],\n",
       " [],\n",
       " ['Food Log 20181224'],\n",
       " ['Daily Totals'],\n",
       " ['', 'Calories', '0'],\n",
       " ['', 'Fat', '0 g'],\n",
       " ['', 'Fiber', '0 g'],\n",
       " ['', 'Carbs', '0 g'],\n",
       " ['', 'Sodium', '0 mg'],\n",
       " ['', 'Protein', '0 g'],\n",
       " ['', 'Water', '0 fl oz'],\n",
       " [],\n",
       " ['Food Log 20181225'],\n",
       " ['Daily Totals'],\n",
       " ['', 'Calories', '0'],\n",
       " ['', 'Fat', '0 g'],\n",
       " ['', 'Fiber', '0 g'],\n",
       " ['', 'Carbs', '0 g'],\n",
       " ['', 'Sodium', '0 mg'],\n",
       " ['', 'Protein', '0 g'],\n",
       " ['', 'Water', '0 fl oz'],\n",
       " [],\n",
       " ['Food Log 20181226'],\n",
       " ['Daily Totals'],\n",
       " ['', 'Calories', '0'],\n",
       " ['', 'Fat', '0 g'],\n",
       " ['', 'Fiber', '0 g'],\n",
       " ['', 'Carbs', '0 g'],\n",
       " ['', 'Sodium', '0 mg'],\n",
       " ['', 'Protein', '0 g'],\n",
       " ['', 'Water', '0 fl oz'],\n",
       " [],\n",
       " ['Food Log 20181227'],\n",
       " ['Daily Totals'],\n",
       " ['', 'Calories', '0'],\n",
       " ['', 'Fat', '0 g'],\n",
       " ['', 'Fiber', '0 g'],\n",
       " ['', 'Carbs', '0 g'],\n",
       " ['', 'Sodium', '0 mg'],\n",
       " ['', 'Protein', '0 g'],\n",
       " ['', 'Water', '0 fl oz'],\n",
       " [],\n",
       " ['Food Log 20181228'],\n",
       " ['Daily Totals'],\n",
       " ['', 'Calories', '0'],\n",
       " ['', 'Fat', '0 g'],\n",
       " ['', 'Fiber', '0 g'],\n",
       " ['', 'Carbs', '0 g'],\n",
       " ['', 'Sodium', '0 mg'],\n",
       " ['', 'Protein', '0 g'],\n",
       " ['', 'Water', '0 fl oz'],\n",
       " []]"
      ]
     },
     "execution_count": 139,
     "metadata": {},
     "output_type": "execute_result"
    }
   ],
   "source": [
    "res_2[1]"
   ]
  },
  {
   "cell_type": "code",
   "execution_count": 140,
   "metadata": {
    "scrolled": true
   },
   "outputs": [],
   "source": [
    "data = pd.DataFrame(res_2[1])"
   ]
  },
  {
   "cell_type": "code",
   "execution_count": 129,
   "metadata": {},
   "outputs": [
    {
     "data": {
      "text/plain": [
       "14"
      ]
     },
     "execution_count": 129,
     "metadata": {},
     "output_type": "execute_result"
    }
   ],
   "source": [
    "data[data[0] == ''].index[0]"
   ]
  },
  {
   "cell_type": "code",
   "execution_count": 154,
   "metadata": {
    "scrolled": true
   },
   "outputs": [
    {
     "data": {
      "text/plain": [
       "'20181128'"
      ]
     },
     "execution_count": 154,
     "metadata": {},
     "output_type": "execute_result"
    }
   ],
   "source": [
    "res_2[1][0][0][-8:]"
   ]
  }
 ],
 "metadata": {
  "kernelspec": {
   "display_name": "Python 3",
   "language": "python",
   "name": "python3"
  },
  "language_info": {
   "codemirror_mode": {
    "name": "ipython",
    "version": 3
   },
   "file_extension": ".py",
   "mimetype": "text/x-python",
   "name": "python",
   "nbconvert_exporter": "python",
   "pygments_lexer": "ipython3",
   "version": "3.7.4"
  }
 },
 "nbformat": 4,
 "nbformat_minor": 2
}
