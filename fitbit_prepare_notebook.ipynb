{
 "cells": [
  {
   "cell_type": "markdown",
   "metadata": {},
   "source": [
    "# Prepare\n",
    "\n",
    "Now we need to:\n",
    "\n",
    "1. Test and make sure the functions from acquire.py work\n",
    "2. Pull all the df from all the files\n",
    "3. Marge all the df together:\n",
    "    * I think we will still keep the data separate. Meaning one df for food_logs, one for activities and one for calories."
   ]
  },
  {
   "cell_type": "markdown",
   "metadata": {},
   "source": [
    "Key Notes: \n",
    "\n",
    "* After some trial and testing, I found that there were some different formats across the food logs. We will come back in the future, and try to sort this, but in the mean time, in the effort of time, I will ignore the food logs completely, and proceeed only using the calories and activities information.\n",
    "\n",
    "* There seems to be that the activities for the last month period (11-01-12-28) is missing the last three weeks. Given the the specs say that we need to predict the next 2 weeks, I think that this is not what we need to predict, and instead it is just missing data that needs to be imputted. I have filled the null values with zero, as it could be that the subject did not wear his fitbit during this time. Another strategy that I am considering at this time is to actually impude the missing valuses with the mean of the first have of the month. "
   ]
  },
  {
   "cell_type": "code",
   "execution_count": 1,
   "metadata": {},
   "outputs": [],
   "source": [
    "import acquire\n",
    "import pandas as pd\n",
    "import numpy as np"
   ]
  },
  {
   "cell_type": "code",
   "execution_count": 2,
   "metadata": {},
   "outputs": [],
   "source": [
    "filename = '2018-11-28_through_2018-12-28.csv'"
   ]
  },
  {
   "cell_type": "code",
   "execution_count": 3,
   "metadata": {},
   "outputs": [],
   "source": [
    "calories, activities = acquire.get_data(filename)"
   ]
  },
  {
   "cell_type": "code",
   "execution_count": 4,
   "metadata": {},
   "outputs": [
    {
     "name": "stdout",
     "output_type": "stream",
     "text": [
      "<class 'pandas.core.frame.DataFrame'>\n",
      "DatetimeIndex: 31 entries, 2018-11-28 to 2018-12-28\n",
      "Data columns (total 1 columns):\n",
      "calories    31 non-null float64\n",
      "dtypes: float64(1)\n",
      "memory usage: 496.0 bytes\n"
     ]
    }
   ],
   "source": [
    "calories.info()"
   ]
  },
  {
   "cell_type": "code",
   "execution_count": 5,
   "metadata": {},
   "outputs": [
    {
     "name": "stdout",
     "output_type": "stream",
     "text": [
      "<class 'pandas.core.frame.DataFrame'>\n",
      "DatetimeIndex: 9 entries, 2018-11-28 to 2018-12-06\n",
      "Data columns (total 9 columns):\n",
      "Calories Burned           9 non-null float64\n",
      "Steps                     9 non-null float64\n",
      "Distance                  9 non-null float64\n",
      "Floors                    9 non-null float64\n",
      "Minutes Sedentary         9 non-null float64\n",
      "Minutes Lightly Active    9 non-null float64\n",
      "Minutes Fairly Active     9 non-null float64\n",
      "Minutes Very Active       9 non-null float64\n",
      "Activity Calories         9 non-null float64\n",
      "dtypes: float64(9)\n",
      "memory usage: 720.0 bytes\n"
     ]
    }
   ],
   "source": [
    "activities.info()"
   ]
  },
  {
   "cell_type": "code",
   "execution_count": 6,
   "metadata": {},
   "outputs": [
    {
     "data": {
      "text/html": [
       "<div>\n",
       "<style scoped>\n",
       "    .dataframe tbody tr th:only-of-type {\n",
       "        vertical-align: middle;\n",
       "    }\n",
       "\n",
       "    .dataframe tbody tr th {\n",
       "        vertical-align: top;\n",
       "    }\n",
       "\n",
       "    .dataframe thead th {\n",
       "        text-align: right;\n",
       "    }\n",
       "</style>\n",
       "<table border=\"1\" class=\"dataframe\">\n",
       "  <thead>\n",
       "    <tr style=\"text-align: right;\">\n",
       "      <th></th>\n",
       "      <th>Calories Burned</th>\n",
       "      <th>Steps</th>\n",
       "      <th>Distance</th>\n",
       "      <th>Floors</th>\n",
       "      <th>Minutes Sedentary</th>\n",
       "      <th>Minutes Lightly Active</th>\n",
       "      <th>Minutes Fairly Active</th>\n",
       "      <th>Minutes Very Active</th>\n",
       "      <th>Activity Calories</th>\n",
       "    </tr>\n",
       "    <tr>\n",
       "      <th>Date</th>\n",
       "      <th></th>\n",
       "      <th></th>\n",
       "      <th></th>\n",
       "      <th></th>\n",
       "      <th></th>\n",
       "      <th></th>\n",
       "      <th></th>\n",
       "      <th></th>\n",
       "      <th></th>\n",
       "    </tr>\n",
       "  </thead>\n",
       "  <tbody>\n",
       "    <tr>\n",
       "      <th>2018-11-28</th>\n",
       "      <td>3088.0</td>\n",
       "      <td>7602.0</td>\n",
       "      <td>3.59</td>\n",
       "      <td>16.0</td>\n",
       "      <td>717.0</td>\n",
       "      <td>272.0</td>\n",
       "      <td>0.0</td>\n",
       "      <td>0.0</td>\n",
       "      <td>1361.0</td>\n",
       "    </tr>\n",
       "    <tr>\n",
       "      <th>2018-11-29</th>\n",
       "      <td>3693.0</td>\n",
       "      <td>12380.0</td>\n",
       "      <td>6.56</td>\n",
       "      <td>18.0</td>\n",
       "      <td>717.0</td>\n",
       "      <td>258.0</td>\n",
       "      <td>15.0</td>\n",
       "      <td>53.0</td>\n",
       "      <td>2051.0</td>\n",
       "    </tr>\n",
       "    <tr>\n",
       "      <th>2018-11-30</th>\n",
       "      <td>3269.0</td>\n",
       "      <td>9559.0</td>\n",
       "      <td>4.51</td>\n",
       "      <td>14.0</td>\n",
       "      <td>699.0</td>\n",
       "      <td>288.0</td>\n",
       "      <td>12.0</td>\n",
       "      <td>6.0</td>\n",
       "      <td>1577.0</td>\n",
       "    </tr>\n",
       "    <tr>\n",
       "      <th>2018-12-01</th>\n",
       "      <td>3813.0</td>\n",
       "      <td>14510.0</td>\n",
       "      <td>7.27</td>\n",
       "      <td>7.0</td>\n",
       "      <td>527.0</td>\n",
       "      <td>233.0</td>\n",
       "      <td>22.0</td>\n",
       "      <td>67.0</td>\n",
       "      <td>2124.0</td>\n",
       "    </tr>\n",
       "    <tr>\n",
       "      <th>2018-12-02</th>\n",
       "      <td>3957.0</td>\n",
       "      <td>13257.0</td>\n",
       "      <td>6.23</td>\n",
       "      <td>195.0</td>\n",
       "      <td>725.0</td>\n",
       "      <td>265.0</td>\n",
       "      <td>13.0</td>\n",
       "      <td>70.0</td>\n",
       "      <td>2305.0</td>\n",
       "    </tr>\n",
       "    <tr>\n",
       "      <th>2018-12-03</th>\n",
       "      <td>3660.0</td>\n",
       "      <td>12915.0</td>\n",
       "      <td>6.12</td>\n",
       "      <td>6.0</td>\n",
       "      <td>782.0</td>\n",
       "      <td>219.0</td>\n",
       "      <td>40.0</td>\n",
       "      <td>51.0</td>\n",
       "      <td>1993.0</td>\n",
       "    </tr>\n",
       "    <tr>\n",
       "      <th>2018-12-04</th>\n",
       "      <td>3384.0</td>\n",
       "      <td>13763.0</td>\n",
       "      <td>6.49</td>\n",
       "      <td>13.0</td>\n",
       "      <td>608.0</td>\n",
       "      <td>199.0</td>\n",
       "      <td>11.0</td>\n",
       "      <td>67.0</td>\n",
       "      <td>1663.0</td>\n",
       "    </tr>\n",
       "    <tr>\n",
       "      <th>2018-12-05</th>\n",
       "      <td>3670.0</td>\n",
       "      <td>13865.0</td>\n",
       "      <td>6.52</td>\n",
       "      <td>12.0</td>\n",
       "      <td>739.0</td>\n",
       "      <td>200.0</td>\n",
       "      <td>12.0</td>\n",
       "      <td>69.0</td>\n",
       "      <td>1968.0</td>\n",
       "    </tr>\n",
       "    <tr>\n",
       "      <th>2018-12-06</th>\n",
       "      <td>3669.0</td>\n",
       "      <td>14774.0</td>\n",
       "      <td>6.96</td>\n",
       "      <td>9.0</td>\n",
       "      <td>647.0</td>\n",
       "      <td>198.0</td>\n",
       "      <td>4.0</td>\n",
       "      <td>78.0</td>\n",
       "      <td>1962.0</td>\n",
       "    </tr>\n",
       "  </tbody>\n",
       "</table>\n",
       "</div>"
      ],
      "text/plain": [
       "            Calories Burned    Steps  Distance  Floors  Minutes Sedentary  \\\n",
       "Date                                                                        \n",
       "2018-11-28           3088.0   7602.0      3.59    16.0              717.0   \n",
       "2018-11-29           3693.0  12380.0      6.56    18.0              717.0   \n",
       "2018-11-30           3269.0   9559.0      4.51    14.0              699.0   \n",
       "2018-12-01           3813.0  14510.0      7.27     7.0              527.0   \n",
       "2018-12-02           3957.0  13257.0      6.23   195.0              725.0   \n",
       "2018-12-03           3660.0  12915.0      6.12     6.0              782.0   \n",
       "2018-12-04           3384.0  13763.0      6.49    13.0              608.0   \n",
       "2018-12-05           3670.0  13865.0      6.52    12.0              739.0   \n",
       "2018-12-06           3669.0  14774.0      6.96     9.0              647.0   \n",
       "\n",
       "            Minutes Lightly Active  Minutes Fairly Active  \\\n",
       "Date                                                        \n",
       "2018-11-28                   272.0                    0.0   \n",
       "2018-11-29                   258.0                   15.0   \n",
       "2018-11-30                   288.0                   12.0   \n",
       "2018-12-01                   233.0                   22.0   \n",
       "2018-12-02                   265.0                   13.0   \n",
       "2018-12-03                   219.0                   40.0   \n",
       "2018-12-04                   199.0                   11.0   \n",
       "2018-12-05                   200.0                   12.0   \n",
       "2018-12-06                   198.0                    4.0   \n",
       "\n",
       "            Minutes Very Active  Activity Calories  \n",
       "Date                                                \n",
       "2018-11-28                  0.0             1361.0  \n",
       "2018-11-29                 53.0             2051.0  \n",
       "2018-11-30                  6.0             1577.0  \n",
       "2018-12-01                 67.0             2124.0  \n",
       "2018-12-02                 70.0             2305.0  \n",
       "2018-12-03                 51.0             1993.0  \n",
       "2018-12-04                 67.0             1663.0  \n",
       "2018-12-05                 69.0             1968.0  \n",
       "2018-12-06                 78.0             1962.0  "
      ]
     },
     "execution_count": 6,
     "metadata": {},
     "output_type": "execute_result"
    }
   ],
   "source": [
    "activities"
   ]
  },
  {
   "cell_type": "markdown",
   "metadata": {},
   "source": [
    "----------------------"
   ]
  },
  {
   "cell_type": "markdown",
   "metadata": {},
   "source": [
    "# Merging all DFs"
   ]
  },
  {
   "cell_type": "code",
   "execution_count": 7,
   "metadata": {},
   "outputs": [],
   "source": [
    "import os\n",
    "import glob\n",
    "import seaborn as sns\n",
    "import matplotlib.pyplot as plt\n",
    "\n",
    "path = '.'\n",
    "extension = 'csv'\n",
    "os.chdir(path)\n",
    "result = glob.glob('*.{}'.format(extension))"
   ]
  },
  {
   "cell_type": "code",
   "execution_count": 8,
   "metadata": {
    "scrolled": true
   },
   "outputs": [
    {
     "data": {
      "text/plain": [
       "['2018-09-27_through_2018-10-27.csv',\n",
       " '2018-07-28_through_2018-08-26.csv',\n",
       " '2018-06-27_through_2018-07-27.csv',\n",
       " '2018-04-26_through_2018-05-26.csv',\n",
       " '2018-10-28_through-2018-11-27.csv',\n",
       " '2018-11-28_through_2018-12-28.csv',\n",
       " '2018-05-27_through_2018-06-26.csv']"
      ]
     },
     "execution_count": 8,
     "metadata": {},
     "output_type": "execute_result"
    }
   ],
   "source": [
    "result"
   ]
  },
  {
   "cell_type": "code",
   "execution_count": 9,
   "metadata": {
    "scrolled": false
   },
   "outputs": [],
   "source": [
    "df = pd.DataFrame([])\n",
    "df_1 = pd.DataFrame([])\n",
    "for i, elem in enumerate(result):\n",
    "    rows = acquire.read_csv_file(elem)\n",
    "    calories = acquire.get_calories(rows)\n",
    "    df = pd.concat([df, calories])\n",
    "    activities = acquire.get_activities(rows)\n",
    "    df_1 = pd.concat([df_1, activities])"
   ]
  },
  {
   "cell_type": "code",
   "execution_count": 10,
   "metadata": {},
   "outputs": [
    {
     "data": {
      "text/plain": [
       "(194, 9)"
      ]
     },
     "execution_count": 10,
     "metadata": {},
     "output_type": "execute_result"
    }
   ],
   "source": [
    "df_1.shape"
   ]
  },
  {
   "cell_type": "code",
   "execution_count": 11,
   "metadata": {
    "scrolled": true
   },
   "outputs": [
    {
     "data": {
      "text/plain": [
       "(216, 1)"
      ]
     },
     "execution_count": 11,
     "metadata": {},
     "output_type": "execute_result"
    }
   ],
   "source": [
    "df.shape"
   ]
  },
  {
   "cell_type": "code",
   "execution_count": 12,
   "metadata": {
    "scrolled": true
   },
   "outputs": [
    {
     "data": {
      "text/plain": [
       "DatetimeIndex(['2018-04-26', '2018-04-27', '2018-04-28', '2018-04-29',\n",
       "               '2018-04-30', '2018-05-01', '2018-05-02', '2018-05-03',\n",
       "               '2018-05-04', '2018-05-05',\n",
       "               ...\n",
       "               '2018-11-27', '2018-11-28', '2018-11-29', '2018-11-30',\n",
       "               '2018-12-01', '2018-12-02', '2018-12-03', '2018-12-04',\n",
       "               '2018-12-05', '2018-12-06'],\n",
       "              dtype='datetime64[ns]', name='Date', length=194, freq=None)"
      ]
     },
     "execution_count": 12,
     "metadata": {},
     "output_type": "execute_result"
    }
   ],
   "source": [
    "df_1.index.sort_values()"
   ]
  },
  {
   "cell_type": "code",
   "execution_count": 13,
   "metadata": {
    "scrolled": true
   },
   "outputs": [],
   "source": [
    "fitbit = pd.concat([df,df_1], axis=1)"
   ]
  },
  {
   "cell_type": "code",
   "execution_count": 14,
   "metadata": {
    "scrolled": true
   },
   "outputs": [],
   "source": [
    "fitbit[\"Calories Burned\"] = fitbit[\"Calories Burned\"].fillna(fitbit[\"2018-11-28\":][\"Calories Burned\"].mean())"
   ]
  },
  {
   "cell_type": "code",
   "execution_count": 15,
   "metadata": {},
   "outputs": [],
   "source": [
    "for col in fitbit:\n",
    "    fitbit[col] = fitbit[col].fillna(fitbit[\"2018-11-28\":][col].mean())"
   ]
  },
  {
   "cell_type": "code",
   "execution_count": 16,
   "metadata": {},
   "outputs": [
    {
     "name": "stdout",
     "output_type": "stream",
     "text": [
      "<class 'pandas.core.frame.DataFrame'>\n",
      "DatetimeIndex: 216 entries, 2018-04-26 to 2018-12-28\n",
      "Data columns (total 10 columns):\n",
      "calories                  216 non-null float64\n",
      "Calories Burned           216 non-null float64\n",
      "Steps                     216 non-null float64\n",
      "Distance                  216 non-null float64\n",
      "Floors                    216 non-null float64\n",
      "Minutes Sedentary         216 non-null float64\n",
      "Minutes Lightly Active    216 non-null float64\n",
      "Minutes Fairly Active     216 non-null float64\n",
      "Minutes Very Active       216 non-null float64\n",
      "Activity Calories         216 non-null float64\n",
      "dtypes: float64(10)\n",
      "memory usage: 28.6 KB\n"
     ]
    }
   ],
   "source": [
    "fitbit.info()"
   ]
  },
  {
   "cell_type": "code",
   "execution_count": 48,
   "metadata": {},
   "outputs": [
    {
     "data": {
      "text/plain": [
       "<matplotlib.axes._subplots.AxesSubplot at 0x1262491d0>"
      ]
     },
     "execution_count": 48,
     "metadata": {},
     "output_type": "execute_result"
    },
    {
     "data": {
      "image/png": "[encoded data removed]",
      "text/plain": [
       "<Figure size 432x288 with 1 Axes>"
      ]
     },
     "metadata": {
      "needs_background": "light"
     },
     "output_type": "display_data"
    }
   ],
   "source": [
    "fitbit.calories.resample(\"D\").mean().plot.line()"
   ]
  },
  {
   "cell_type": "markdown",
   "metadata": {},
   "source": [
    "It seems that we are missing a month worth of data, between the end of august adn the end of september. We will need to fill this data."
   ]
  },
  {
   "cell_type": "code",
   "execution_count": 18,
   "metadata": {},
   "outputs": [],
   "source": [
    "aug = fitbit[\"2018-08\"]\n",
    "\n",
    "fitbit[\"2018-08-27\":\"2018-09-26\"] = aug"
   ]
  },
  {
   "cell_type": "code",
   "execution_count": 19,
   "metadata": {},
   "outputs": [],
   "source": [
    "r = pd.date_range(start=fitbit.index.min(), end=fitbit.index.max())"
   ]
  },
  {
   "cell_type": "code",
   "execution_count": 20,
   "metadata": {
    "scrolled": true
   },
   "outputs": [],
   "source": [
    "fitbit = fitbit.reindex(r)"
   ]
  },
  {
   "cell_type": "code",
   "execution_count": 68,
   "metadata": {
    "scrolled": false
   },
   "outputs": [],
   "source": [
    "for col in fitbit:\n",
    "    impude_value = fitbit[\"2018-08\"][col].resample(\"M\").mean()[0]\n",
    "    fitbit[col] = fitbit[col].fillna(impude_value)"
   ]
  },
  {
   "cell_type": "code",
   "execution_count": 69,
   "metadata": {
    "scrolled": true
   },
   "outputs": [
    {
     "data": {
      "text/plain": [
       "<matplotlib.axes._subplots.AxesSubplot at 0x12644c150>"
      ]
     },
     "execution_count": 69,
     "metadata": {},
     "output_type": "execute_result"
    },
    {
     "data": {
      "image/png": "[encoded data removed]",
      "text/plain": [
       "<Figure size 432x288 with 1 Axes>"
      ]
     },
     "metadata": {
      "needs_background": "light"
     },
     "output_type": "display_data"
    }
   ],
   "source": [
    "fitbit.calories.resample(\"D\").mean().plot.line()"
   ]
  },
  {
   "cell_type": "markdown",
   "metadata": {},
   "source": [
    "We have reindex the index, to add the missing gap. We then filled the new na values with the mean score from the previous month. Given that in many ways, exercise is largely dependent on what you previously did, it makes sense that by using the privious month, we can atleast approximate how much exercise the subject did. There is the risk that the subject did not exercise during this time (which could explain why the data is missing). However, given that we don't have any evidence (and the fact that the subject is likely part of an experiment, then it is unlikely that the subject would so drastically change its behavio)\n",
    "\n",
    "A quick note on `calories`. Because the subject only seemed to record its caloric intake on some days, and not on a consistent basis, I used the mean of the caloric intake from the days where the subject did record its intake, and replaced the zeros with this mean, so that we can atleast have a better way to calculate net caloric gain."
   ]
  },
  {
   "cell_type": "markdown",
   "metadata": {},
   "source": [
    "We are now ready to proceed to the exploration stage. The data has been succesfully acquired and prepared."
   ]
  }
 ],
 "metadata": {
  "kernelspec": {
   "display_name": "Python 3",
   "language": "python",
   "name": "python3"
  },
  "language_info": {
   "codemirror_mode": {
    "name": "ipython",
    "version": 3
   },
   "file_extension": ".py",
   "mimetype": "text/x-python",
   "name": "python",
   "nbconvert_exporter": "python",
   "pygments_lexer": "ipython3",
   "version": "3.7.4"
  }
 },
 "nbformat": 4,
 "nbformat_minor": 2
}
